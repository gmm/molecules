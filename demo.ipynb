{
  "cells": [
    {
      "cell_type": "markdown",
      "metadata": {
        "id": "xVTIaP1kIxQ8"
      },
      "source": [
        "###  MicroGrad demo"
      ]
    },
    {
      "cell_type": "code",
      "execution_count": 1,
      "metadata": {
        "id": "fzNPXk-cIxQ_"
      },
      "outputs": [],
      "source": [
        "import random\n",
        "import numpy as np\n",
        "import matplotlib.pyplot as plt\n",
        "%matplotlib inline"
      ]
    },
    {
      "cell_type": "code",
      "source": [
        "def f(x):\n",
        "  return 3*x**2 - 4*x + 5"
      ],
      "metadata": {
        "id": "u0Je8JTzJZgn"
      },
      "execution_count": 2,
      "outputs": []
    },
    {
      "cell_type": "markdown",
      "source": [],
      "metadata": {
        "id": "7dnL2GJqJihY"
      }
    },
    {
      "cell_type": "code",
      "source": [
        "f(3.0)"
      ],
      "metadata": {
        "id": "9NqbUqokJjgN",
        "outputId": "0b0ac9f1-c01c-40c3-b23a-45583e582a0b",
        "colab": {
          "base_uri": "https://localhost:8080/"
        }
      },
      "execution_count": 3,
      "outputs": [
        {
          "output_type": "execute_result",
          "data": {
            "text/plain": [
              "20.0"
            ]
          },
          "metadata": {},
          "execution_count": 3
        }
      ]
    },
    {
      "cell_type": "code",
      "source": [
        "xs = np.arange(-5, 5, 0.25)\n",
        "ys = f(xs)\n",
        "plt.plot(xs, ys)"
      ],
      "metadata": {
        "id": "Ab3H0VNMLxAD",
        "outputId": "63b40ec0-ae10-4f4e-b19c-164effa6c1f7",
        "colab": {
          "base_uri": "https://localhost:8080/",
          "height": 448
        }
      },
      "execution_count": 7,
      "outputs": [
        {
          "output_type": "execute_result",
          "data": {
            "text/plain": [
              "[<matplotlib.lines.Line2D at 0x7f5e402598e0>]"
            ]
          },
          "metadata": {},
          "execution_count": 7
        },
        {
          "output_type": "display_data",
          "data": {
            "text/plain": [
              "<Figure size 640x480 with 1 Axes>"
            ],
            "image/png": "[encoded data removed]"
          },
          "metadata": {}
        }
      ]
    },
    {
      "cell_type": "code",
      "source": [
        "h=0.0001\n",
        "x=2/3.\n",
        "(f(x+h)-f(x))/h"
      ],
      "metadata": {
        "id": "FhAFNvLvMj5h",
        "outputId": "a51df75c-0086-4c1c-e3f5-971e69d8bd61",
        "colab": {
          "base_uri": "https://localhost:8080/"
        }
      },
      "execution_count": 15,
      "outputs": [
        {
          "output_type": "execute_result",
          "data": {
            "text/plain": [
              "0.0"
            ]
          },
          "metadata": {},
          "execution_count": 15
        }
      ]
    },
    {
      "cell_type": "code",
      "source": [
        "#inputs\n",
        "a = 2.\n",
        "b = -3.\n",
        "c = 10.0\n",
        "\n",
        "d1 = a*b + c\n",
        "c += h\n",
        "d2 = a*b + c\n",
        "\n",
        "print('d1', d1)\n",
        "print('d2', d2)\n",
        "print('slope', (d2 - d1)/h)"
      ],
      "metadata": {
        "id": "QHB153NnMn-8",
        "outputId": "a22e88dc-52d4-4fc8-a860-dfaf075727ae",
        "colab": {
          "base_uri": "https://localhost:8080/"
        }
      },
      "execution_count": 19,
      "outputs": [
        {
          "output_type": "stream",
          "name": "stdout",
          "text": [
            "d1 4.0\n",
            "d2 4.000000010000001\n",
            "slope 1.000000082740371\n"
          ]
        }
      ]
    },
    {
      "cell_type": "code",
      "source": [
        "class Value:\n",
        "\n",
        "  def __init__(self, data, _children=(), _op=''):\n",
        "    self.data = data\n",
        "    self._prev = set(_children)\n",
        "    self._op = _op\n",
        "\n",
        "  def __repr__(self):\n",
        "    return f\"Value(data={self.data})\"\n",
        "\n",
        "  def __add__(self, other):\n",
        "    out = Value(self.data + other.data, (self, other), '+')\n",
        "    return out\n",
        "\n",
        "  def __mul__(self, other):\n",
        "    out = Value(self.data * other.data, (self,other), '*')\n",
        "    return out\n",
        "\n",
        "a = Value(2.)\n",
        "b = Value(-3.0)\n",
        "c = Value(10.)\n",
        "d = a * b + c\n",
        "d"
      ],
      "metadata": {
        "id": "j1TwNAroMoRY",
        "outputId": "0dd8ccc3-507f-4b9e-810b-69dd6c5e244b",
        "colab": {
          "base_uri": "https://localhost:8080/"
        }
      },
      "execution_count": 30,
      "outputs": [
        {
          "output_type": "execute_result",
          "data": {
            "text/plain": [
              "Value(data=4.0)"
            ]
          },
          "metadata": {},
          "execution_count": 30
        }
      ]
    },
    {
      "cell_type": "code",
      "source": [
        "d._prev"
      ],
      "metadata": {
        "id": "rvfrNPrFMoe-",
        "outputId": "32e25840-3726-4efe-a7bd-51c614a9d016",
        "colab": {
          "base_uri": "https://localhost:8080/"
        }
      },
      "execution_count": 31,
      "outputs": [
        {
          "output_type": "execute_result",
          "data": {
            "text/plain": [
              "{Value(data=-6.0), Value(data=10.0)}"
            ]
          },
          "metadata": {},
          "execution_count": 31
        }
      ]
    },
    {
      "cell_type": "code",
      "source": [
        "d._op"
      ],
      "metadata": {
        "id": "1T_7HtAQMopg",
        "outputId": "c8c02c6f-b7c0-4d3d-9d08-469204fc60ef",
        "colab": {
          "base_uri": "https://localhost:8080/",
          "height": 36
        }
      },
      "execution_count": 32,
      "outputs": [
        {
          "output_type": "execute_result",
          "data": {
            "text/plain": [
              "'+'"
            ],
            "application/vnd.google.colaboratory.intrinsic+json": {
              "type": "string"
            }
          },
          "metadata": {},
          "execution_count": 32
        }
      ]
    },
    {
      "cell_type": "code",
      "execution_count": null,
      "metadata": {
        "id": "a2g_mziQIxRA"
      },
      "outputs": [],
      "source": [
        "from micrograd.engine import Value\n",
        "from micrograd.nn import Neuron, Layer, MLP"
      ]
    },
    {
      "cell_type": "code",
      "source": [],
      "metadata": {
        "id": "duP0zldaS6Ad"
      },
      "execution_count": null,
      "outputs": []
    },
    {
      "cell_type": "code",
      "source": [],
      "metadata": {
        "id": "g5g3bvzRS-TP"
      },
      "execution_count": null,
      "outputs": []
    },
    {
      "cell_type": "code",
      "source": [],
      "metadata": {
        "id": "S-Y0BExTS-9O"
      },
      "execution_count": null,
      "outputs": []
    },
    {
      "cell_type": "code",
      "source": [],
      "metadata": {
        "id": "9mP3858oS_KG"
      },
      "execution_count": null,
      "outputs": []
    },
    {
      "cell_type": "code",
      "source": [],
      "metadata": {
        "id": "UAtSVlIJS_ZR"
      },
      "execution_count": null,
      "outputs": []
    },
    {
      "cell_type": "code",
      "source": [],
      "metadata": {
        "id": "rYlRhZW0S_oI"
      },
      "execution_count": null,
      "outputs": []
    },
    {
      "cell_type": "code",
      "execution_count": null,
      "metadata": {
        "id": "-Ep6ujD6IxRA"
      },
      "outputs": [],
      "source": [
        "np.random.seed(1337)\n",
        "random.seed(1337)"
      ]
    },
    {
      "cell_type": "code",
      "execution_count": null,
      "metadata": {
        "id": "P1mW8b3JIxRA",
        "outputId": "7447aca8-a99b-4006-9145-f94b92ac4121"
      },
      "outputs": [
        {
          "data": {
            "text/plain": [
              "<matplotlib.collections.PathCollection at 0x10f636400>"
            ]
          },
          "execution_count": 4,
          "metadata": {},
          "output_type": "execute_result"
        },
        {
          "data": {
            "image/png": "[encoded data removed]",
            "text/plain": [
              "<Figure size 360x360 with 1 Axes>"
            ]
          },
          "metadata": {},
          "output_type": "display_data"
        }
      ],
      "source": [
        "# make up a dataset\n",
        "\n",
        "from sklearn.datasets import make_moons, make_blobs\n",
        "X, y = make_moons(n_samples=100, noise=0.1)\n",
        "\n",
        "y = y*2 - 1 # make y be -1 or 1\n",
        "# visualize in 2D\n",
        "plt.figure(figsize=(5,5))\n",
        "plt.scatter(X[:,0], X[:,1], c=y, s=20, cmap='jet')"
      ]
    },
    {
      "cell_type": "code",
      "execution_count": null,
      "metadata": {
        "id": "0rVBZbQHIxRB",
        "outputId": "f6cdf6cb-af73-4a66-eb10-630ed492a45d"
      },
      "outputs": [
        {
          "name": "stdout",
          "output_type": "stream",
          "text": [
            "MLP of [Layer of [ReLUNeuron(2), ReLUNeuron(2), ReLUNeuron(2), ReLUNeuron(2), ReLUNeuron(2), ReLUNeuron(2), ReLUNeuron(2), ReLUNeuron(2), ReLUNeuron(2), ReLUNeuron(2), ReLUNeuron(2), ReLUNeuron(2), ReLUNeuron(2), ReLUNeuron(2), ReLUNeuron(2), ReLUNeuron(2)], Layer of [ReLUNeuron(16), ReLUNeuron(16), ReLUNeuron(16), ReLUNeuron(16), ReLUNeuron(16), ReLUNeuron(16), ReLUNeuron(16), ReLUNeuron(16), ReLUNeuron(16), ReLUNeuron(16), ReLUNeuron(16), ReLUNeuron(16), ReLUNeuron(16), ReLUNeuron(16), ReLUNeuron(16), ReLUNeuron(16)], Layer of [LinearNeuron(16)]]\n",
            "number of parameters 337\n"
          ]
        }
      ],
      "source": [
        "# initialize a model \n",
        "model = MLP(2, [16, 16, 1]) # 2-layer neural network\n",
        "print(model)\n",
        "print(\"number of parameters\", len(model.parameters()))"
      ]
    },
    {
      "cell_type": "code",
      "execution_count": null,
      "metadata": {
        "id": "9SsFULuzIxRC",
        "outputId": "0a9a199a-52a8-4a9a-a8b4-d556549076e2"
      },
      "outputs": [
        {
          "name": "stdout",
          "output_type": "stream",
          "text": [
            "Value(data=0.8958441028683222, grad=0) 0.5\n"
          ]
        }
      ],
      "source": [
        "# loss function\n",
        "def loss(batch_size=None):\n",
        "    \n",
        "    # inline DataLoader :)\n",
        "    if batch_size is None:\n",
        "        Xb, yb = X, y\n",
        "    else:\n",
        "        ri = np.random.permutation(X.shape[0])[:batch_size]\n",
        "        Xb, yb = X[ri], y[ri]\n",
        "    inputs = [list(map(Value, xrow)) for xrow in Xb]\n",
        "    \n",
        "    # forward the model to get scores\n",
        "    scores = list(map(model, inputs))\n",
        "    \n",
        "    # svm \"max-margin\" loss\n",
        "    losses = [(1 + -yi*scorei).relu() for yi, scorei in zip(yb, scores)]\n",
        "    data_loss = sum(losses) * (1.0 / len(losses))\n",
        "    # L2 regularization\n",
        "    alpha = 1e-4\n",
        "    reg_loss = alpha * sum((p*p for p in model.parameters()))\n",
        "    total_loss = data_loss + reg_loss\n",
        "    \n",
        "    # also get accuracy\n",
        "    accuracy = [(yi > 0) == (scorei.data > 0) for yi, scorei in zip(yb, scores)]\n",
        "    return total_loss, sum(accuracy) / len(accuracy)\n",
        "\n",
        "total_loss, acc = loss()\n",
        "print(total_loss, acc)"
      ]
    },
    {
      "cell_type": "code",
      "execution_count": null,
      "metadata": {
        "id": "mCCQmDHuIxRD",
        "outputId": "bccace10-0fee-4bc8-8bc6-02647e5076f5"
      },
      "outputs": [
        {
          "name": "stdout",
          "output_type": "stream",
          "text": [
            "step 0 loss 0.8958441028683222, accuracy 50.0%\n",
            "step 1 loss 1.7235905336972022, accuracy 81.0%\n",
            "step 2 loss 0.7429006313851131, accuracy 77.0%\n",
            "step 3 loss 0.7705641260584198, accuracy 82.0%\n",
            "step 4 loss 0.3692793385976538, accuracy 84.0%\n",
            "step 5 loss 0.313545481918522, accuracy 86.0%\n",
            "step 6 loss 0.2814234349772435, accuracy 89.0%\n",
            "step 7 loss 0.26888733313983904, accuracy 91.0%\n",
            "step 8 loss 0.2567147286057417, accuracy 91.0%\n",
            "step 9 loss 0.2704862551637922, accuracy 91.0%\n",
            "step 10 loss 0.24507023853658053, accuracy 91.0%\n",
            "step 11 loss 0.2509905529791503, accuracy 92.0%\n",
            "step 12 loss 0.21560951851922952, accuracy 91.0%\n",
            "step 13 loss 0.23090378446402726, accuracy 93.0%\n",
            "step 14 loss 0.20152151227899445, accuracy 92.0%\n",
            "step 15 loss 0.22574506279282217, accuracy 93.0%\n",
            "step 16 loss 0.19447987596204114, accuracy 92.0%\n",
            "step 17 loss 0.21089496199246363, accuracy 93.0%\n",
            "step 18 loss 0.159830773563036, accuracy 94.0%\n",
            "step 19 loss 0.1845374874688392, accuracy 93.0%\n",
            "step 20 loss 0.18977522856087634, accuracy 91.0%\n",
            "step 21 loss 0.19072704042579647, accuracy 93.0%\n",
            "step 22 loss 0.11733695088756485, accuracy 97.0%\n",
            "step 23 loss 0.12173524408232454, accuracy 95.0%\n",
            "step 24 loss 0.1261571261277045, accuracy 95.0%\n",
            "step 25 loss 0.16049097780801674, accuracy 95.0%\n",
            "step 26 loss 0.18747197705245805, accuracy 92.0%\n",
            "step 27 loss 0.16741837891059408, accuracy 95.0%\n",
            "step 28 loss 0.09586583491455399, accuracy 97.0%\n",
            "step 29 loss 0.0877878370742091, accuracy 96.0%\n",
            "step 30 loss 0.11731297569011848, accuracy 95.0%\n",
            "step 31 loss 0.09340146460619836, accuracy 97.0%\n",
            "step 32 loss 0.12454454903103446, accuracy 95.0%\n",
            "step 33 loss 0.07984002652777272, accuracy 97.0%\n",
            "step 34 loss 0.07727519232921673, accuracy 97.0%\n",
            "step 35 loss 0.07661250143094483, accuracy 98.0%\n",
            "step 36 loss 0.10610492379198365, accuracy 96.0%\n",
            "step 37 loss 0.09062808429265976, accuracy 99.0%\n",
            "step 38 loss 0.10671887043036932, accuracy 95.0%\n",
            "step 39 loss 0.05225659921975849, accuracy 98.0%\n",
            "step 40 loss 0.06016009895234464, accuracy 100.0%\n",
            "step 41 loss 0.08596724533333942, accuracy 96.0%\n",
            "step 42 loss 0.051121079431796, accuracy 99.0%\n",
            "step 43 loss 0.052401424016428284, accuracy 97.0%\n",
            "step 44 loss 0.045306841790015734, accuracy 100.0%\n",
            "step 45 loss 0.07211073370655095, accuracy 97.0%\n",
            "step 46 loss 0.03334238651310234, accuracy 99.0%\n",
            "step 47 loss 0.03143222795751122, accuracy 100.0%\n",
            "step 48 loss 0.03658536747111507, accuracy 99.0%\n",
            "step 49 loss 0.04829139382390309, accuracy 99.0%\n",
            "step 50 loss 0.09875114765619622, accuracy 96.0%\n",
            "step 51 loss 0.05449063965875453, accuracy 99.0%\n",
            "step 52 loss 0.03392679435708309, accuracy 100.0%\n",
            "step 53 loss 0.05261517263568441, accuracy 97.0%\n",
            "step 54 loss 0.03250295251424923, accuracy 99.0%\n",
            "step 55 loss 0.02888327387207822, accuracy 100.0%\n",
            "step 56 loss 0.04139151104027239, accuracy 98.0%\n",
            "step 57 loss 0.018987407426128502, accuracy 100.0%\n",
            "step 58 loss 0.0252383352388374, accuracy 100.0%\n",
            "step 59 loss 0.02079656521341895, accuracy 100.0%\n",
            "step 60 loss 0.0325971115781023, accuracy 99.0%\n",
            "step 61 loss 0.017863351693480307, accuracy 100.0%\n",
            "step 62 loss 0.023008717832211683, accuracy 100.0%\n",
            "step 63 loss 0.022079325463581503, accuracy 100.0%\n",
            "step 64 loss 0.029432917853529684, accuracy 99.0%\n",
            "step 65 loss 0.01625151464409193, accuracy 100.0%\n",
            "step 66 loss 0.02846853448326446, accuracy 99.0%\n",
            "step 67 loss 0.013994365546208731, accuracy 100.0%\n",
            "step 68 loss 0.015552344843651405, accuracy 100.0%\n",
            "step 69 loss 0.0338911994616017, accuracy 99.0%\n",
            "step 70 loss 0.014229870065926908, accuracy 100.0%\n",
            "step 71 loss 0.013255281583285504, accuracy 100.0%\n",
            "step 72 loss 0.012300277590022063, accuracy 100.0%\n",
            "step 73 loss 0.012676052498355976, accuracy 100.0%\n",
            "step 74 loss 0.020593811955954763, accuracy 100.0%\n",
            "step 75 loss 0.011845398205364453, accuracy 100.0%\n",
            "step 76 loss 0.016012697472883086, accuracy 100.0%\n",
            "step 77 loss 0.025458360239222128, accuracy 100.0%\n",
            "step 78 loss 0.014382930289661911, accuracy 100.0%\n",
            "step 79 loss 0.011698962425817985, accuracy 100.0%\n",
            "step 80 loss 0.012318500800515763, accuracy 100.0%\n",
            "step 81 loss 0.014121117031464233, accuracy 100.0%\n",
            "step 82 loss 0.011664591962446225, accuracy 100.0%\n",
            "step 83 loss 0.011589314549188726, accuracy 100.0%\n",
            "step 84 loss 0.010990299347735226, accuracy 100.0%\n",
            "step 85 loss 0.01098922672069161, accuracy 100.0%\n",
            "step 86 loss 0.010988193757655071, accuracy 100.0%\n",
            "step 87 loss 0.010987200447388707, accuracy 100.0%\n",
            "step 88 loss 0.010986246779084925, accuracy 100.0%\n",
            "step 89 loss 0.010985332742365272, accuracy 100.0%\n",
            "step 90 loss 0.010984458327280174, accuracy 100.0%\n",
            "step 91 loss 0.010983623524308862, accuracy 100.0%\n",
            "step 92 loss 0.010982828324359073, accuracy 100.0%\n",
            "step 93 loss 0.010982072718767003, accuracy 100.0%\n",
            "step 94 loss 0.010981356699297042, accuracy 100.0%\n",
            "step 95 loss 0.010980680258141723, accuracy 100.0%\n",
            "step 96 loss 0.010980043387921506, accuracy 100.0%\n",
            "step 97 loss 0.010979446081684675, accuracy 100.0%\n",
            "step 98 loss 0.010978888332907229, accuracy 100.0%\n",
            "step 99 loss 0.010978370135492717, accuracy 100.0%\n"
          ]
        }
      ],
      "source": [
        "# optimization\n",
        "for k in range(100):\n",
        "    \n",
        "    # forward\n",
        "    total_loss, acc = loss()\n",
        "    \n",
        "    # backward\n",
        "    model.zero_grad()\n",
        "    total_loss.backward()\n",
        "    \n",
        "    # update (sgd)\n",
        "    learning_rate = 1.0 - 0.9*k/100\n",
        "    for p in model.parameters():\n",
        "        p.data -= learning_rate * p.grad\n",
        "    \n",
        "    if k % 1 == 0:\n",
        "        print(f\"step {k} loss {total_loss.data}, accuracy {acc*100}%\")\n"
      ]
    },
    {
      "cell_type": "code",
      "execution_count": null,
      "metadata": {
        "id": "UdHEHCxtIxRD",
        "outputId": "35544e21-8204-4a1c-cfc8-3cbb75b32327"
      },
      "outputs": [
        {
          "data": {
            "text/plain": [
              "(-1.548639298268643, 1.951360701731357)"
            ]
          },
          "execution_count": 8,
          "metadata": {},
          "output_type": "execute_result"
        },
        {
          "data": {
            "image/png": "[encoded data removed]",
            "text/plain": [
              "<Figure size 432x288 with 1 Axes>"
            ]
          },
          "metadata": {},
          "output_type": "display_data"
        }
      ],
      "source": [
        "# visualize decision boundary\n",
        "\n",
        "h = 0.25\n",
        "x_min, x_max = X[:, 0].min() - 1, X[:, 0].max() + 1\n",
        "y_min, y_max = X[:, 1].min() - 1, X[:, 1].max() + 1\n",
        "xx, yy = np.meshgrid(np.arange(x_min, x_max, h),\n",
        "                     np.arange(y_min, y_max, h))\n",
        "Xmesh = np.c_[xx.ravel(), yy.ravel()]\n",
        "inputs = [list(map(Value, xrow)) for xrow in Xmesh]\n",
        "scores = list(map(model, inputs))\n",
        "Z = np.array([s.data > 0 for s in scores])\n",
        "Z = Z.reshape(xx.shape)\n",
        "\n",
        "fig = plt.figure()\n",
        "plt.contourf(xx, yy, Z, cmap=plt.cm.Spectral, alpha=0.8)\n",
        "plt.scatter(X[:, 0], X[:, 1], c=y, s=40, cmap=plt.cm.Spectral)\n",
        "plt.xlim(xx.min(), xx.max())\n",
        "plt.ylim(yy.min(), yy.max())\n"
      ]
    },
    {
      "cell_type": "code",
      "execution_count": null,
      "metadata": {
        "id": "d9ImUqw5IxRD"
      },
      "outputs": [],
      "source": []
    }
  ],
  "metadata": {
    "kernelspec": {
      "display_name": "Python 3",
      "language": "python",
      "name": "python3"
    },
    "language_info": {
      "codemirror_mode": {
        "name": "ipython",
        "version": 3
      },
      "file_extension": ".py",
      "mimetype": "text/x-python",
      "name": "python",
      "nbconvert_exporter": "python",
      "pygments_lexer": "ipython3",
      "version": "3.6.5"
    },
    "colab": {
      "provenance": []
    }
  },
  "nbformat": 4,
  "nbformat_minor": 0
}